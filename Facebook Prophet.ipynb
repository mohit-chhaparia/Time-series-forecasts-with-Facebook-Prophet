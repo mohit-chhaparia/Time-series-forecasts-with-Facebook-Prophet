!pip install pystan
!python -m pip install prophet

from IPython.core.interactiveshell import InteractiveShell
InteractiveShell.ast_node_interactivity = "all"
import pandas as pd
from sklearn.metrics import mean_absolute_error
from matplotlib import pyplot
from prophet import Prophet
from prophet.plot import add_changepoints_to_plot

df = pd.read_csv('DATASET.csv')
df

dates = df["REPORT_DATE"].str.split("-", n = 2, expand = True)
df['ds'] = pd.DatetimeIndex(dates[0] + '-' + dates[1] + '-' + dates[2])
df = df.loc[(df['CONTINENT_NAME'] == 'America')].sort_values(by = 'ds').reset_index(drop = True)
df


# New Positive Cases
df1 = df.copy()
df1.drop(['REPORT_DATE', 'CONTINENT_NAME', 'PEOPLE_DEATH_COUNT', 'PEOPLE_POSITIVE_CASES_COUNT',
          'PEOPLE_DEATH_NEW_COUNT'], axis=1, inplace=True)
df1.columns = ['y', 'ds']
train = df1.drop(df1.index[-25:])

fbp = Prophet(interval_width = 0.95, daily_seasonality = False, weekly_seasonality = True, 
              changepoint_range = 1, changepoint_prior_scale = 0.75)
model = fbp.fit(train)
future_df = fbp.make_future_dataframe(periods = 25, freq = 'D')
forecast = fbp.predict(future_df)
forecast.head()

y_true = df1['y'][-25:].values
y_pred = forecast['yhat'].values[-25:]
mae = mean_absolute_error(y_true, y_pred)
print('MAE = %d' % mae)

pyplot.plot(y_true, label = 'Actual')
pyplot.plot(y_pred, label = 'Predicted')
pyplot.legend()
pyplot.show()
plot1 = fbp.plot(forecast)
plot11 = add_changepoints_to_plot(plot1.gca(), fbp, forecast)
plot2 = fbp.plot_components(forecast)


# New Deaths
df1 = df.copy()
df1.drop(['REPORT_DATE', 'CONTINENT_NAME', 'PEOPLE_DEATH_COUNT', 'PEOPLE_POSITIVE_CASES_COUNT', 
          'PEOPLE_POSITIVE_NEW_CASES_COUNT'], axis=1, inplace=True)
df1.columns = ['y', 'ds']
train = df1.drop(df1.index[-25:])

fbp = Prophet(interval_width = 0.95, daily_seasonality = False, weekly_seasonality = True, 
              changepoint_range = 1, changepoint_prior_scale = 0.75)
model = fbp.fit(train)
future_df = fbp.make_future_dataframe(periods = 25, freq = 'D')
forecast = fbp.predict(future_df)
forecast.head()

y_true = df1['y'][-25:].values
y_pred = forecast['yhat'].values[-25:]
mae = mean_absolute_error(y_true, y_pred)
print('MAE = %d' % mae)

pyplot.plot(y_true, label = 'Actual')
pyplot.plot(y_pred, label = 'Predicted')
pyplot.legend()
pyplot.show()
plot1 = fbp.plot(forecast)
plot11 = add_changepoints_to_plot(plot1.gca(), fbp, forecast)
plot2 = fbp.plot_components(forecast)


# Total Positive Cases
df1 = df.copy()
df1.drop(['REPORT_DATE', 'CONTINENT_NAME', 'PEOPLE_DEATH_COUNT', 'PEOPLE_POSITIVE_NEW_CASES_COUNT', 
          'PEOPLE_DEATH_NEW_COUNT'], axis=1, inplace=True)
df1.columns = ['y', 'ds']
train = df1.drop(df1.index[-25:])

fbp = Prophet(interval_width = 0.95, daily_seasonality = False, weekly_seasonality = True, 
              changepoint_range = 1, changepoint_prior_scale = 0.75)
model = fbp.fit(train)
future_df = fbp.make_future_dataframe(periods = 25, freq = 'D')
forecast = fbp.predict(future_df)
forecast.head()

y_true = df1['y'][-25:].values
y_pred = forecast['yhat'].values[-25:]
mae = mean_absolute_error(y_true, y_pred)
print('MAE = %d' % mae)

pyplot.plot(y_true, label = 'Actual')
pyplot.plot(y_pred, label = 'Predicted')
pyplot.legend()
pyplot.show()
plot1 = fbp.plot(forecast)
plot11 = add_changepoints_to_plot(plot1.gca(), fbp, forecast)
plot2 = fbp.plot_components(forecast)


# Total Death Cases
df1 = df.copy()
df1.drop(['REPORT_DATE', 'CONTINENT_NAME', 'PEOPLE_POSITIVE_NEW_CASES_COUNT', 'PEOPLE_POSITIVE_CASES_COUNT', 
          'PEOPLE_DEATH_NEW_COUNT'], axis=1, inplace=True)
df1.columns = ['y', 'ds']
train = df1.drop(df1.index[-25:])

fbp = Prophet(interval_width = 0.95, daily_seasonality = False, weekly_seasonality = True, 
              changepoint_range = 1, changepoint_prior_scale = 0.75)
model = fbp.fit(train)
future_df = fbp.make_future_dataframe(periods = 25, freq = 'D')
forecast = fbp.predict(future_df)
forecast.head()

y_true = df1['y'][-25:].values
y_pred = forecast['yhat'].values[-25:]
mae = mean_absolute_error(y_true, y_pred)
print('MAE = %d' % mae)

pyplot.plot(y_true, label = 'Actual')
pyplot.plot(y_pred, label = 'Predicted')
pyplot.legend()
pyplot.show()
plot1 = fbp.plot(forecast)
plot11 = add_changepoints_to_plot(plot1.gca(), fbp, forecast)
plot2 = fbp.plot_components(forecast)
